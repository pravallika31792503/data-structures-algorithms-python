{
 "cells": [
  {
   "cell_type": "code",
   "execution_count": 1,
   "metadata": {},
   "outputs": [],
   "source": [
    "from collections import deque"
   ]
  },
  {
   "cell_type": "code",
   "execution_count": 2,
   "metadata": {},
   "outputs": [],
   "source": [
    "class Stack:\n",
    "    def __init__(self):\n",
    "        self.container=deque()\n",
    "    def push(self,val):\n",
    "        self.container.append(val)\n",
    "    def pop(self):\n",
    "        return self.container.pop()\n",
    "    def peek(self):\n",
    "        return self.container[-1]\n",
    "    def is_empty(self):\n",
    "        return len(self.container)==0\n",
    "    def size(self):\n",
    "        return len(self.container)"
   ]
  },
  {
   "cell_type": "code",
   "execution_count": 3,
   "metadata": {},
   "outputs": [],
   "source": [
    "def reverse_string(s):\n",
    "    stack=Stack()\n",
    "    for ch in s:\n",
    "        stack.push(ch)\n",
    "    rstr=''\n",
    "    while stack.size()!=0:\n",
    "        rstr+=stack.pop()\n",
    "    return rstr\n"
   ]
  },
  {
   "cell_type": "code",
   "execution_count": 4,
   "metadata": {},
   "outputs": [
    {
     "name": "stdout",
     "output_type": "stream",
     "text": [
      "91-IVOC ereuqnoc lliw eW\n",
      "gnik eht ma I\n"
     ]
    }
   ],
   "source": [
    "if __name__==\"__main__\":\n",
    "    print(reverse_string(\"We will conquere COVI-19\"))\n",
    "    print(reverse_string(\"I am the king\"))\n"
   ]
  },
  {
   "cell_type": "code",
   "execution_count": null,
   "metadata": {},
   "outputs": [],
   "source": []
  }
 ],
 "metadata": {
  "kernelspec": {
   "display_name": "visa",
   "language": "python",
   "name": "python3"
  },
  "language_info": {
   "codemirror_mode": {
    "name": "ipython",
    "version": 3
   },
   "file_extension": ".py",
   "mimetype": "text/x-python",
   "name": "python",
   "nbconvert_exporter": "python",
   "pygments_lexer": "ipython3",
   "version": "3.10.15"
  }
 },
 "nbformat": 4,
 "nbformat_minor": 2
}
