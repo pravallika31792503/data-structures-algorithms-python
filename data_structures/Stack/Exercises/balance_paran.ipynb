{
 "cells": [
  {
   "cell_type": "code",
   "execution_count": 1,
   "metadata": {},
   "outputs": [],
   "source": [
    "from collections import deque"
   ]
  },
  {
   "cell_type": "code",
   "execution_count": 2,
   "metadata": {},
   "outputs": [],
   "source": [
    "class Stack:\n",
    "    def __init__(self):\n",
    "        self.container=deque()\n",
    "    def push(self,val):\n",
    "        self.container.append(val)\n",
    "    def pop(self):\n",
    "        return self.container.pop()\n",
    "    def peek(self):\n",
    "        return self.container[-1]\n",
    "    def is_empty(self):\n",
    "        return len(self.container)==0\n",
    "    def size(self):\n",
    "        return len(self.container)"
   ]
  },
  {
   "cell_type": "code",
   "execution_count": 3,
   "metadata": {},
   "outputs": [],
   "source": [
    "def is_match(ch1,ch2):\n",
    "    match_dict={\n",
    "    ')': '(',\n",
    "    ']': '[',\n",
    "    '}': '{'\n",
    "    }\n",
    "    return match_dict[ch1]==ch2"
   ]
  },
  {
   "cell_type": "code",
   "execution_count": 4,
   "metadata": {},
   "outputs": [],
   "source": [
    "def balance_paran(s):\n",
    "    stack=Stack()\n",
    "    for ch in s:\n",
    "        if ch=='(' or ch=='{' or ch=='[':\n",
    "            stack.push(ch)\n",
    "        if ch==')' or ch=='}' or ch==']':\n",
    "            if stack.size()==0:\n",
    "                return False\n",
    "            if not is_match(ch,stack.pop()):\n",
    "                return False\n",
    "    return stack.size()==0"
   ]
  },
  {
   "cell_type": "code",
   "execution_count": 5,
   "metadata": {},
   "outputs": [
    {
     "name": "stdout",
     "output_type": "stream",
     "text": [
      "True\n",
      "False\n",
      "True\n",
      "True\n",
      "False\n",
      "True\n"
     ]
    }
   ],
   "source": [
    "if __name__ == '__main__':\n",
    "    print(balance_paran(\"({a+b})\"))\n",
    "    print(balance_paran(\"))((a+b}{\"))\n",
    "    print(balance_paran(\"((a+b))\"))\n",
    "    print(balance_paran(\"((a+g))\"))\n",
    "    print(balance_paran(\"))\"))\n",
    "    print(balance_paran(\"[a+b]*(x+2y)*{gg+kk}\"))"
   ]
  },
  {
   "cell_type": "code",
   "execution_count": null,
   "metadata": {},
   "outputs": [],
   "source": []
  }
 ],
 "metadata": {
  "kernelspec": {
   "display_name": "visa",
   "language": "python",
   "name": "python3"
  },
  "language_info": {
   "codemirror_mode": {
    "name": "ipython",
    "version": 3
   },
   "file_extension": ".py",
   "mimetype": "text/x-python",
   "name": "python",
   "nbconvert_exporter": "python",
   "pygments_lexer": "ipython3",
   "version": "3.10.15"
  }
 },
 "nbformat": 4,
 "nbformat_minor": 2
}
