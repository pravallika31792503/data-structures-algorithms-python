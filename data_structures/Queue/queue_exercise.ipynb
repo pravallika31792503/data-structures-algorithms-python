{
 "cells": [
  {
   "cell_type": "code",
   "execution_count": 2,
   "metadata": {},
   "outputs": [],
   "source": [
    "import threading\n",
    "import time\n",
    "from collections import deque"
   ]
  },
  {
   "cell_type": "code",
   "execution_count": 3,
   "metadata": {},
   "outputs": [],
   "source": [
    "class Queue:\n",
    "    def __init__(self):\n",
    "        self.buffer=deque()\n",
    "    \n",
    "    def enqueue(self,val):\n",
    "        self.buffer.appendleft(val)\n",
    "    \n",
    "    def dequeue(self):\n",
    "        if len(self.buffer)==0:\n",
    "            print (\"Queue is empty\")\n",
    "            return\n",
    "        return self.buffer.pop()\n",
    "    def is_empty(self):\n",
    "        return len(self.buffer)==0\n",
    "    def size(self):\n",
    "        return len(self.buffer)\n",
    "    \n",
    "    "
   ]
  },
  {
   "cell_type": "code",
   "execution_count": 4,
   "metadata": {},
   "outputs": [],
   "source": [
    "food_order_queue=Queue()"
   ]
  },
  {
   "cell_type": "code",
   "execution_count": 9,
   "metadata": {},
   "outputs": [],
   "source": [
    "def place_orders(orders):\n",
    "    for order in orders:\n",
    "        print(\"Placing order for:\",order)\n",
    "        food_order_queue.enqueue(order)\n",
    "        time.sleep(0.5)\n",
    "\n",
    "\n",
    "def serve_orders():\n",
    "    time.sleep(1)\n",
    "    while True:\n",
    "        order = food_order_queue.dequeue()\n",
    "        print(\"Now serving: \",order)\n",
    "        time.sleep(2)\n"
   ]
  },
  {
   "cell_type": "code",
   "execution_count": 10,
   "metadata": {},
   "outputs": [
    {
     "name": "stdout",
     "output_type": "stream",
     "text": [
      "Placing order for: pizza\n"
     ]
    },
    {
     "name": "stdout",
     "output_type": "stream",
     "text": [
      "Placing order for: samosa\n",
      "Now serving: Placing order for: pasta\n",
      " pizza\n",
      "Placing order for: biryani\n",
      "Placing order for: burger\n",
      "Now serving:  biryani\n",
      "Queue is empty\n",
      "Now serving:  None\n",
      "Queue is empty\n",
      "Now serving:  None\n",
      "Queue is empty\n",
      "Now serving:  None\n",
      "Queue is empty\n",
      "Now serving:  None\n",
      "Queue is empty\n",
      "Now serving:  None\n",
      "Queue is empty\n",
      "Now serving:  None\n",
      "Queue is empty\n",
      "Now serving:  None\n",
      "Queue is empty\n",
      "Now serving:  None\n",
      "Queue is empty\n",
      "Now serving:  None\n",
      "Queue is empty\n",
      "Now serving:  None\n",
      "Queue is empty\n",
      "Now serving:  None\n",
      "Queue is empty\n",
      "Now serving:  None\n",
      "Queue is empty\n",
      "Now serving:  None\n",
      "Queue is empty\n",
      "Now serving:  None\n",
      "Queue is empty\n",
      "Now serving:  None\n",
      "Queue is empty\n",
      "Now serving:  None\n",
      "Queue is empty\n",
      "Now serving:  None\n",
      "Queue is empty\n",
      "Now serving:  None\n",
      "Queue is empty\n",
      "Now serving:  None\n",
      "Queue is empty\n",
      "Now serving:  None\n",
      "Queue is empty\n",
      "Now serving:  None\n",
      "Queue is empty\n",
      "Now serving:  None\n",
      "Queue is empty\n",
      "Now serving:  None\n"
     ]
    }
   ],
   "source": [
    "if __name__ == '__main__':\n",
    "    orders = ['pizza','samosa','pasta','biryani','burger']\n",
    "    t1 = threading.Thread(target=place_orders, args=(orders,))\n",
    "    t2 = threading.Thread(target=serve_orders)\n",
    "\n",
    "    t1.start()\n",
    "    t2.start()"
   ]
  },
  {
   "cell_type": "code",
   "execution_count": null,
   "metadata": {},
   "outputs": [],
   "source": []
  }
 ],
 "metadata": {
  "kernelspec": {
   "display_name": "visa",
   "language": "python",
   "name": "python3"
  },
  "language_info": {
   "codemirror_mode": {
    "name": "ipython",
    "version": 3
   },
   "file_extension": ".py",
   "mimetype": "text/x-python",
   "name": "python",
   "nbconvert_exporter": "python",
   "pygments_lexer": "ipython3",
   "version": "3.10.15"
  }
 },
 "nbformat": 4,
 "nbformat_minor": 2
}
