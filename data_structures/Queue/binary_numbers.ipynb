{
 "cells": [
  {
   "cell_type": "code",
   "execution_count": 1,
   "metadata": {},
   "outputs": [],
   "source": [
    "from collections import deque"
   ]
  },
  {
   "cell_type": "code",
   "execution_count": 2,
   "metadata": {},
   "outputs": [],
   "source": [
    "class Queue:\n",
    "    def __init__(self):\n",
    "        self.buffer=deque()\n",
    "    def enqueue(self,val):\n",
    "        self.buffer.appendleft(val)\n",
    "    def dequeue(self):\n",
    "        if len(self.buffer)==0:\n",
    "            print(\"Queue is empty\")\n",
    "            return \n",
    "        return self.buffer.pop()\n",
    "    def is_empty(self):\n",
    "        return len(self.buffer)==0\n",
    "    def size(self):\n",
    "        return len(self.buffer)\n",
    "    def font(self):\n",
    "        return self.buffer[-1]\n",
    "    "
   ]
  },
  {
   "cell_type": "code",
   "execution_count": 5,
   "metadata": {},
   "outputs": [],
   "source": [
    "def produce_binary_numbers(n):\n",
    "    numbers_queue=Queue()\n",
    "    numbers_queue.enqueue(\"1\")\n",
    "\n",
    "    for i in range(n):\n",
    "        font=numbers_queue.font()\n",
    "        print(\" \",font)\n",
    "        numbers_queue.enqueue(font+\"0\")\n",
    "        numbers_queue.enqueue(font+\"1\")\n",
    "        numbers_queue.dequeue()\n",
    "\n"
   ]
  },
  {
   "cell_type": "code",
   "execution_count": 6,
   "metadata": {},
   "outputs": [
    {
     "name": "stdout",
     "output_type": "stream",
     "text": [
      "  1\n",
      "  10\n",
      "  11\n",
      "  100\n",
      "  101\n",
      "  110\n",
      "  111\n",
      "  1000\n",
      "  1001\n",
      "  1010\n"
     ]
    }
   ],
   "source": [
    "if __name__ == '__main__':\n",
    "    produce_binary_numbers(10)"
   ]
  },
  {
   "cell_type": "code",
   "execution_count": null,
   "metadata": {},
   "outputs": [],
   "source": []
  }
 ],
 "metadata": {
  "kernelspec": {
   "display_name": "visa",
   "language": "python",
   "name": "python3"
  },
  "language_info": {
   "codemirror_mode": {
    "name": "ipython",
    "version": 3
   },
   "file_extension": ".py",
   "mimetype": "text/x-python",
   "name": "python",
   "nbconvert_exporter": "python",
   "pygments_lexer": "ipython3",
   "version": "3.10.15"
  }
 },
 "nbformat": 4,
 "nbformat_minor": 2
}
